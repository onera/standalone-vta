{
 "cells": [
  {
   "cell_type": "markdown",
   "metadata": {},
   "source": [
    "## How to use the compiler folder for the example of LeNet-5\n",
    "\n",
    "**Introduction to LeNet-5 : one of the first CNNs, useful for image recognition.**\n",
    "\n",
    "*Architecture :* \n",
    "- **Input image :** 32x32 pixels, 1 channel\n",
    "- **First convolutional layer C1 :** 6 convolutional filters of size 5x5, resulting in 6 feature maps of size 28x28 | ReLU activation\n",
    "- **Average pooling layer AP2 :** 2x2 kernel with stride = 1, resulting in feature maps of size 14x14 \n",
    "\n",
    "*How to use data_definition :*\n"
   ]
  }
 ],
 "metadata": {
  "kernelspec": {
   "display_name": "base",
   "language": "python",
   "name": "python3"
  },
  "language_info": {
   "codemirror_mode": {
    "name": "ipython",
    "version": 3
   },
   "file_extension": ".py",
   "mimetype": "text/x-python",
   "name": "python",
   "nbconvert_exporter": "python",
   "pygments_lexer": "ipython3",
   "version": "3.12.9"
  }
 },
 "nbformat": 4,
 "nbformat_minor": 2
}
